{
 "cells": [
  {
   "cell_type": "code",
   "execution_count": 1,
   "id": "0b6eedee",
   "metadata": {},
   "outputs": [],
   "source": [
    "import pandas as pd\n",
    "import numpy as np"
   ]
  },
  {
   "cell_type": "code",
   "execution_count": 2,
   "id": "b24f2a3d",
   "metadata": {},
   "outputs": [],
   "source": [
    "data = pd.read_csv(\"loan-train.csv\")"
   ]
  },
  {
   "cell_type": "code",
   "execution_count": 3,
   "id": "2987bcb0",
   "metadata": {},
   "outputs": [
    {
     "name": "stderr",
     "output_type": "stream",
     "text": [
      "/tmp/ipykernel_39941/4050678893.py:1: DeprecationWarning: `np.float` is a deprecated alias for the builtin `float`. To silence this warning, use `float` by itself. Doing this will not modify any behavior and is safe. If you specifically wanted the numpy scalar type, use `np.float64` here.\n",
      "Deprecated in NumPy 1.20; for more details and guidance: https://numpy.org/devdocs/release/1.20.0-notes.html#deprecations\n",
      "  data['Dependents'] = data['Dependents'].replace('3+', 4).astype(np.float)\n"
     ]
    }
   ],
   "source": [
    "data['Dependents'] = data['Dependents'].replace('3+', 4).astype(np.float) \n",
    "data['Gender'] = data['Gender'].replace('Male', 1)\n",
    "data['Gender'] = data['Gender'].replace('Female', 0)\n",
    "data['Married'] = data['Married'].replace('Yes', 1)\n",
    "data['Married'] = data['Married'].replace('No', 0)\n",
    "data['Self_Employed'] = data['Self_Employed'].replace('Yes', 1)\n",
    "data['Self_Employed'] = data['Self_Employed'].replace('No', 0)\n",
    "data['Education'] = data['Education'].replace('Graduate', 1)\n",
    "data['Education'] = data['Education'].replace('Not Graduate', 0)\n",
    "data['Property_Area'] = data['Property_Area'].replace('Urban', 1)\n",
    "data['Property_Area'] = data['Property_Area'].replace('Semiurban', 0)\n",
    "data['Property_Area'] = data['Property_Area'].replace('Rural', 1)\n",
    "data['Loan_Status'] = data['Loan_Status'].replace('Y', 1)\n",
    "data['Loan_Status'] = data['Loan_Status'].replace('N', 0)\n",
    "data = data.drop(columns = 'Loan_ID')"
   ]
  },
  {
   "cell_type": "code",
   "execution_count": 4,
   "id": "f5f28f10",
   "metadata": {},
   "outputs": [
    {
     "data": {
      "text/plain": [
       "Gender               13\n",
       "Married               3\n",
       "Dependents           15\n",
       "Education             0\n",
       "Self_Employed        32\n",
       "ApplicantIncome       0\n",
       "CoapplicantIncome     0\n",
       "LoanAmount           22\n",
       "Loan_Amount_Term     14\n",
       "Credit_History       50\n",
       "Property_Area         0\n",
       "Loan_Status           0\n",
       "dtype: int64"
      ]
     },
     "execution_count": 4,
     "metadata": {},
     "output_type": "execute_result"
    }
   ],
   "source": [
    "data.isnull().sum()"
   ]
  },
  {
   "cell_type": "code",
   "execution_count": null,
   "id": "7ca3c143",
   "metadata": {},
   "outputs": [],
   "source": [
    "corr = data.corr()\n",
    "corr.style.background_gradient(cmap='coolwarm')"
   ]
  },
  {
   "cell_type": "code",
   "execution_count": null,
   "id": "23946854",
   "metadata": {},
   "outputs": [],
   "source": [
    "#high correlation Loan_Status ^ Credit_History\n",
    "#high correlation LoanAmount ^ ApplicantIncome\n",
    "#replace the missing values Loan_Status ^ Credit_History\n"
   ]
  },
  {
   "cell_type": "code",
   "execution_count": 5,
   "id": "144e004f",
   "metadata": {},
   "outputs": [
    {
     "name": "stderr",
     "output_type": "stream",
     "text": [
      "/tmp/ipykernel_39941/1500832226.py:3: SettingWithCopyWarning: \n",
      "A value is trying to be set on a copy of a slice from a DataFrame\n",
      "\n",
      "See the caveats in the documentation: https://pandas.pydata.org/pandas-docs/stable/user_guide/indexing.html#returning-a-view-versus-a-copy\n",
      "  data['LoanAmount'][LoanAmount_index] = data['ApplicantIncome'][LoanAmount_index]/10\n",
      "/tmp/ipykernel_39941/1500832226.py:5: SettingWithCopyWarning: \n",
      "A value is trying to be set on a copy of a slice from a DataFrame\n",
      "\n",
      "See the caveats in the documentation: https://pandas.pydata.org/pandas-docs/stable/user_guide/indexing.html#returning-a-view-versus-a-copy\n",
      "  data['Credit_History'][Credit_History_index] = data['Loan_Status'][Credit_History_index]\n",
      "/tmp/ipykernel_39941/1500832226.py:7: SettingWithCopyWarning: \n",
      "A value is trying to be set on a copy of a slice from a DataFrame\n",
      "\n",
      "See the caveats in the documentation: https://pandas.pydata.org/pandas-docs/stable/user_guide/indexing.html#returning-a-view-versus-a-copy\n",
      "  data['Married'][Married_index] = data['Gender'][Married_index]\n",
      "/tmp/ipykernel_39941/1500832226.py:9: SettingWithCopyWarning: \n",
      "A value is trying to be set on a copy of a slice from a DataFrame\n",
      "\n",
      "See the caveats in the documentation: https://pandas.pydata.org/pandas-docs/stable/user_guide/indexing.html#returning-a-view-versus-a-copy\n",
      "  data['Gender'][Gender_index] = data['Married'][Gender_index]\n",
      "/tmp/ipykernel_39941/1500832226.py:11: SettingWithCopyWarning: \n",
      "A value is trying to be set on a copy of a slice from a DataFrame\n",
      "\n",
      "See the caveats in the documentation: https://pandas.pydata.org/pandas-docs/stable/user_guide/indexing.html#returning-a-view-versus-a-copy\n",
      "  data['Dependents'][Dependents_index] = 1\n"
     ]
    }
   ],
   "source": [
    "#replaces \n",
    "LoanAmount_index = np.where(data['LoanAmount'].isnull())[0]\n",
    "data['LoanAmount'][LoanAmount_index] = data['ApplicantIncome'][LoanAmount_index]/10\n",
    "Credit_History_index = np.where(data['Credit_History'].isnull())[0]\n",
    "data['Credit_History'][Credit_History_index] = data['Loan_Status'][Credit_History_index]\n",
    "Married_index = np.where(data['Married'].isnull())[0]\n",
    "data['Married'][Married_index] = data['Gender'][Married_index]\n",
    "Gender_index = np.where(data['Gender'].isnull())[0]\n",
    "data['Gender'][Gender_index] = data['Married'][Gender_index]\n",
    "Dependents_index = np.where(data['Dependents'].isnull())[0]\n",
    "data['Dependents'][Dependents_index] = 1"
   ]
  },
  {
   "cell_type": "code",
   "execution_count": null,
   "id": "75efac05",
   "metadata": {},
   "outputs": [],
   "source": [
    "data.isnull().sum()"
   ]
  },
  {
   "cell_type": "code",
   "execution_count": 6,
   "id": "6883a422",
   "metadata": {},
   "outputs": [],
   "source": [
    "Self_Employed_index = np.where(data['Self_Employed'].isnull())[0]\n",
    "Loan_Amount_Term_index = np.where(data['Loan_Amount_Term'].isnull())[0]\n",
    "from functools import reduce\n",
    "drop_indeces = reduce(np.union1d,(Self_Employed_index,Loan_Amount_Term_index))\n",
    "data = data.drop(index = drop_indeces).reset_index(drop = True)"
   ]
  },
  {
   "cell_type": "code",
   "execution_count": null,
   "id": "12a41ef6",
   "metadata": {},
   "outputs": [],
   "source": [
    "#correlation \n",
    "Dependents_index = np.where(~data['Dependents'].isnull())[0]\n",
    "dependents = (data['Dependents'][Dependents_index] == 0).to_numpy().astype(int)\n",
    "married =  (data['Married'][Dependents_index] == 0).to_numpy()\n",
    "print(np.corrcoef(dependents,married))"
   ]
  },
  {
   "cell_type": "code",
   "execution_count": 7,
   "id": "aeceb1f9",
   "metadata": {},
   "outputs": [],
   "source": [
    "with pd.ExcelWriter('clean_data.xlsx') as writer:\n",
    "        data.to_excel(writer)"
   ]
  },
  {
   "cell_type": "code",
   "execution_count": 22,
   "id": "e9dee8a8",
   "metadata": {},
   "outputs": [
    {
     "data": {
      "text/plain": [
       "array([[  1.,   0.,   0., ..., 360.,   1.,   1.],\n",
       "       [  1.,   1.,   1., ..., 360.,   1.,   1.],\n",
       "       [  1.,   1.,   0., ..., 360.,   1.,   1.],\n",
       "       ...,\n",
       "       [  1.,   1.,   1., ..., 360.,   1.,   1.],\n",
       "       [  1.,   1.,   2., ..., 360.,   1.,   1.],\n",
       "       [  0.,   0.,   0., ..., 360.,   0.,   0.]])"
      ]
     },
     "execution_count": 22,
     "metadata": {},
     "output_type": "execute_result"
    }
   ],
   "source": [
    "data.to_numpy()[...,:-1]"
   ]
  },
  {
   "cell_type": "code",
   "execution_count": 23,
   "id": "72272bb1",
   "metadata": {},
   "outputs": [
    {
     "data": {
      "text/plain": [
       "array([[1., 0., 0., ..., 1., 1., 1.],\n",
       "       [1., 1., 1., ..., 1., 1., 0.],\n",
       "       [1., 1., 0., ..., 1., 1., 1.],\n",
       "       ...,\n",
       "       [1., 1., 1., ..., 1., 1., 1.],\n",
       "       [1., 1., 2., ..., 1., 1., 1.],\n",
       "       [0., 0., 0., ..., 0., 0., 0.]])"
      ]
     },
     "execution_count": 23,
     "metadata": {},
     "output_type": "execute_result"
    }
   ],
   "source": [
    "data.to_numpy()"
   ]
  },
  {
   "cell_type": "code",
   "execution_count": null,
   "id": "5e0d819b",
   "metadata": {},
   "outputs": [],
   "source": []
  }
 ],
 "metadata": {
  "kernelspec": {
   "display_name": "Python 3 (ipykernel)",
   "language": "python",
   "name": "python3"
  },
  "language_info": {
   "codemirror_mode": {
    "name": "ipython",
    "version": 3
   },
   "file_extension": ".py",
   "mimetype": "text/x-python",
   "name": "python",
   "nbconvert_exporter": "python",
   "pygments_lexer": "ipython3",
   "version": "3.10.6"
  }
 },
 "nbformat": 4,
 "nbformat_minor": 5
}
